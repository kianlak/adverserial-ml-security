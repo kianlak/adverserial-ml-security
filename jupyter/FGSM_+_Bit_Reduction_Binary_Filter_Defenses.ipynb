{
  "nbformat": 4,
  "nbformat_minor": 0,
  "metadata": {
    "colab": {
      "provenance": []
    },
    "kernelspec": {
      "name": "python3",
      "display_name": "Python 3"
    },
    "language_info": {
      "name": "python"
    }
  },
  "cells": [
    {
      "cell_type": "markdown",
      "source": [
        "# 1. Download Dataset\n",
        "Data Source: https://advnet.seas.upenn.edu/#:~:text=AdvNet%20is%20a%20dataset%20of,without%20any%20stickers%20on%20them"
      ],
      "metadata": {
        "id": "D9SylG-h8MV6"
      }
    },
    {
      "cell_type": "code",
      "execution_count": null,
      "metadata": {
        "colab": {
          "base_uri": "https://localhost:8080/"
        },
        "id": "RBEZ_4sV4fU4",
        "outputId": "cbd19d29-05b8-4d9f-b9dd-e1302e35d1c6"
      },
      "outputs": [
        {
          "output_type": "stream",
          "name": "stdout",
          "text": [
            "Requirement already satisfied: gdown in /usr/local/lib/python3.11/dist-packages (5.2.0)\n",
            "Requirement already satisfied: beautifulsoup4 in /usr/local/lib/python3.11/dist-packages (from gdown) (4.13.3)\n",
            "Requirement already satisfied: filelock in /usr/local/lib/python3.11/dist-packages (from gdown) (3.18.0)\n",
            "Requirement already satisfied: requests[socks] in /usr/local/lib/python3.11/dist-packages (from gdown) (2.25.1)\n",
            "Requirement already satisfied: tqdm in /usr/local/lib/python3.11/dist-packages (from gdown) (4.67.1)\n",
            "Requirement already satisfied: soupsieve>1.2 in /usr/local/lib/python3.11/dist-packages (from beautifulsoup4->gdown) (2.6)\n",
            "Requirement already satisfied: typing-extensions>=4.0.0 in /usr/local/lib/python3.11/dist-packages (from beautifulsoup4->gdown) (4.13.1)\n",
            "Requirement already satisfied: chardet<5,>=3.0.2 in /usr/local/lib/python3.11/dist-packages (from requests[socks]->gdown) (4.0.0)\n",
            "Requirement already satisfied: idna<3,>=2.5 in /usr/local/lib/python3.11/dist-packages (from requests[socks]->gdown) (2.10)\n",
            "Requirement already satisfied: urllib3<1.27,>=1.21.1 in /usr/local/lib/python3.11/dist-packages (from requests[socks]->gdown) (1.26.20)\n",
            "Requirement already satisfied: certifi>=2017.4.17 in /usr/local/lib/python3.11/dist-packages (from requests[socks]->gdown) (2025.1.31)\n",
            "Requirement already satisfied: PySocks!=1.5.7,>=1.5.6 in /usr/local/lib/python3.11/dist-packages (from requests[socks]->gdown) (1.7.1)\n"
          ]
        }
      ],
      "source": [
        "!pip install gdown"
      ]
    },
    {
      "cell_type": "code",
      "source": [
        "import gdown\n",
        "\n",
        "url = f\"https://drive.google.com/uc?id=13NdhIvPgzOQoRg9A-xUUXSsfxVwPrEUV\"\n",
        "gdown.download(url, quiet=False)"
      ],
      "metadata": {
        "colab": {
          "base_uri": "https://localhost:8080/",
          "height": 125
        },
        "id": "HmNwduqC662N",
        "outputId": "d4bc90eb-e564-4778-a28c-ce86b653541b"
      },
      "execution_count": null,
      "outputs": [
        {
          "output_type": "stream",
          "name": "stderr",
          "text": [
            "Downloading...\n",
            "From (original): https://drive.google.com/uc?id=13NdhIvPgzOQoRg9A-xUUXSsfxVwPrEUV\n",
            "From (redirected): https://drive.google.com/uc?id=13NdhIvPgzOQoRg9A-xUUXSsfxVwPrEUV&confirm=t&uuid=dcf855ac-276c-47f8-b22f-1a41218f8ef6\n",
            "To: /content/LisaCnn.zip\n",
            "100%|██████████| 6.47M/6.47M [00:00<00:00, 202MB/s]\n"
          ]
        },
        {
          "output_type": "execute_result",
          "data": {
            "text/plain": [
              "'LisaCnn.zip'"
            ],
            "application/vnd.google.colaboratory.intrinsic+json": {
              "type": "string"
            }
          },
          "metadata": {},
          "execution_count": 2
        }
      ]
    },
    {
      "cell_type": "markdown",
      "source": [
        "# 2. Extract the Downloaded Dataset"
      ],
      "metadata": {
        "id": "ZaFr6-fZ8Qdu"
      }
    },
    {
      "cell_type": "code",
      "source": [
        "import zipfile\n",
        "import os\n",
        "\n",
        "zip_path = \"/content/LisaCnn.zip\"\n",
        "extract_dir = \"/content/LisaCnn\"\n",
        "\n",
        "with zipfile.ZipFile(zip_path, 'r') as zip_ref:\n",
        "    zip_ref.extractall(extract_dir)\n",
        "\n",
        "print(\"Extraction completed.\")"
      ],
      "metadata": {
        "id": "BtV1_sbV7gCW",
        "colab": {
          "base_uri": "https://localhost:8080/"
        },
        "outputId": "fbf79d55-8769-4d02-faec-fe39449200f3"
      },
      "execution_count": null,
      "outputs": [
        {
          "output_type": "stream",
          "name": "stdout",
          "text": [
            "Extraction completed.\n"
          ]
        }
      ]
    },
    {
      "cell_type": "markdown",
      "source": [
        "# 3. Check Folder Structure"
      ],
      "metadata": {
        "id": "za_0RTO38kEc"
      }
    },
    {
      "cell_type": "code",
      "source": [
        "for root, dirs, files in os.walk(extract_dir):\n",
        "    print(root, \":\", len(files), \"files\")"
      ],
      "metadata": {
        "id": "eahdeRPW8jIU",
        "colab": {
          "base_uri": "https://localhost:8080/"
        },
        "outputId": "64a110ff-580c-4089-9d39-80627a2f0594"
      },
      "execution_count": null,
      "outputs": [
        {
          "output_type": "stream",
          "name": "stdout",
          "text": [
            "/content/LisaCnn : 0 files\n",
            "/content/LisaCnn/LisaCnn : 0 files\n",
            "/content/LisaCnn/LisaCnn/StopSigns : 0 files\n",
            "/content/LisaCnn/LisaCnn/StopSigns/CleanStop : 902 files\n",
            "/content/LisaCnn/LisaCnn/StopSigns/LisaAdvStop : 0 files\n",
            "/content/LisaCnn/LisaCnn/StopSigns/LisaAdvStop/AdvStop : 964 files\n",
            "/content/LisaCnn/LisaCnn/StopSigns/LisaAdvStop/__MACOSX : 1 files\n",
            "/content/LisaCnn/LisaCnn/StopSigns/LisaAdvStop/__MACOSX/AdvStop : 964 files\n",
            "/content/LisaCnn/LisaCnn/Speed35Signs : 1 files\n",
            "/content/LisaCnn/LisaCnn/Speed35Signs/Clean : 815 files\n",
            "/content/LisaCnn/LisaCnn/Speed35Signs/Adv : 1006 files\n",
            "/content/LisaCnn/LisaCnn/YieldSigns : 1 files\n",
            "/content/LisaCnn/LisaCnn/YieldSigns/CleanYield : 928 files\n",
            "/content/LisaCnn/LisaCnn/YieldSigns/AdvYield : 1018 files\n"
          ]
        }
      ]
    },
    {
      "cell_type": "markdown",
      "source": [
        "# 4. Organize the Dataset"
      ],
      "metadata": {
        "id": "Q0FCG5XQ9OYJ"
      }
    },
    {
      "cell_type": "code",
      "source": [
        "import shutil\n",
        "\n",
        "# Paths\n",
        "original_root = \"/content/LisaCnn/LisaCnn\"\n",
        "clean_root = \"/content/LisaCnn_Clean\"\n",
        "adv_root = \"/content/LisaCnn_Adv\"  # New folder for adversarial images\n",
        "\n",
        "# Categories and their corresponding \"clean\" and \"adversarial\" folders\n",
        "categories = {\n",
        "    \"Speed35Signs\": (\"Speed35Signs/Clean\", \"Speed35Signs/Adv\"),\n",
        "    \"StopSigns\": (\"StopSigns/CleanStop\", \"StopSigns/LisaAdvStop/AdvStop\"),\n",
        "    \"YieldSigns\": (\"YieldSigns/CleanYield\", \"YieldSigns/AdvYield\")\n",
        "}\n",
        "\n",
        "# Create dataset structures\n",
        "os.makedirs(clean_root, exist_ok=True)\n",
        "os.makedirs(adv_root, exist_ok=True)\n",
        "\n",
        "for category, (clean_folder, adv_folder) in categories.items():\n",
        "    clean_source = os.path.join(original_root, clean_folder)\n",
        "    adv_source = os.path.join(original_root, adv_folder)\n",
        "\n",
        "    clean_target = os.path.join(clean_root, category)\n",
        "    adv_target = os.path.join(adv_root, category)\n",
        "\n",
        "    os.makedirs(clean_target, exist_ok=True)\n",
        "    os.makedirs(adv_target, exist_ok=True)\n",
        "\n",
        "    # Copy clean images\n",
        "    for file in os.listdir(clean_source):\n",
        "        file_path = os.path.join(clean_source, file)\n",
        "        if os.path.isfile(file_path):\n",
        "            shutil.copy(file_path, os.path.join(clean_target, file))\n",
        "\n",
        "    # Copy adversarial images\n",
        "    for file in os.listdir(adv_source):\n",
        "        file_path = os.path.join(adv_source, file)\n",
        "        if os.path.isfile(file_path):\n",
        "            shutil.copy(file_path, os.path.join(adv_target, file))\n",
        "\n",
        "print(\"Clean and adversarial datasets structured successfully.\")"
      ],
      "metadata": {
        "id": "PTbl2aMK85Mt",
        "colab": {
          "base_uri": "https://localhost:8080/"
        },
        "outputId": "2befffaa-fe7d-48bd-b69a-04976841544f"
      },
      "execution_count": null,
      "outputs": [
        {
          "output_type": "stream",
          "name": "stdout",
          "text": [
            "Clean and adversarial datasets structured successfully.\n"
          ]
        }
      ]
    },
    {
      "cell_type": "markdown",
      "source": [
        "# 5. Analyze Image Sizes and Color Channels"
      ],
      "metadata": {
        "id": "2A4tSxiM9-bu"
      }
    },
    {
      "cell_type": "code",
      "source": [
        "from PIL import Image\n",
        "import numpy as np\n",
        "import pandas as pd\n",
        "import matplotlib.pyplot as plt\n",
        "\n",
        "# Define dataset path\n",
        "dataset_root = \"/content/LisaCnn/LisaCnn\"\n",
        "\n",
        "# Clean image directories\n",
        "clean_folders = {\n",
        "    \"Speed35Signs\": \"Speed35Signs/Clean\",\n",
        "    \"StopSigns\": \"StopSigns/CleanStop\",\n",
        "    \"YieldSigns\": \"YieldSigns/CleanYield\"\n",
        "}\n",
        "\n",
        "# Store statistics\n",
        "image_stats = []\n",
        "\n",
        "# Analyze each category\n",
        "for category, folder in clean_folders.items():\n",
        "    folder_path = os.path.join(dataset_root, folder)\n",
        "    if os.path.exists(folder_path):\n",
        "        for image_name in os.listdir(folder_path):\n",
        "            image_path = os.path.join(folder_path, image_name)\n",
        "            try:\n",
        "                with Image.open(image_path) as img:\n",
        "                    width, height = img.size\n",
        "                    mode = img.mode  # 'RGB', 'L' (grayscale), etc.\n",
        "                    image_stats.append((category, width, height, mode))\n",
        "            except Exception as e:\n",
        "                print(f\"Could not open {image_path}: {e}\")\n",
        "\n",
        "# Convert to DataFrame\n",
        "df_stats = pd.DataFrame(image_stats, columns=[\"Category\", \"Width\", \"Height\", \"Mode\"])\n",
        "print(df_stats)\n",
        "\n",
        "# Plot Image Size Distributions\n",
        "plt.figure(figsize=(10, 5))\n",
        "\n",
        "# Plot width vs. height\n",
        "plt.scatter(df_stats[\"Width\"], df_stats[\"Height\"], alpha=0.5, label=\"Image Sizes\")\n",
        "plt.xlabel(\"Width\")\n",
        "plt.ylabel(\"Height\")\n",
        "plt.title(\"Image Size Distribution\")\n",
        "plt.legend()\n",
        "plt.show()"
      ],
      "metadata": {
        "id": "Gz11ctOQ9_mr",
        "colab": {
          "base_uri": "https://localhost:8080/",
          "height": 757
        },
        "outputId": "16cd621d-241c-4eb6-b6d4-bd7113fe4d84"
      },
      "execution_count": null,
      "outputs": [
        {
          "output_type": "stream",
          "name": "stdout",
          "text": [
            "Could not open /content/LisaCnn/LisaCnn/StopSigns/CleanStop/.DS_Store: cannot identify image file '/content/LisaCnn/LisaCnn/StopSigns/CleanStop/.DS_Store'\n",
            "          Category  Width  Height Mode\n",
            "0     Speed35Signs     32      32  RGB\n",
            "1     Speed35Signs     32      32  RGB\n",
            "2     Speed35Signs     32      32  RGB\n",
            "3     Speed35Signs     32      32  RGB\n",
            "4     Speed35Signs     32      32  RGB\n",
            "...            ...    ...     ...  ...\n",
            "2639    YieldSigns     32      32  RGB\n",
            "2640    YieldSigns     32      32  RGB\n",
            "2641    YieldSigns     32      32  RGB\n",
            "2642    YieldSigns     32      32  RGB\n",
            "2643    YieldSigns     32      32  RGB\n",
            "\n",
            "[2644 rows x 4 columns]\n"
          ]
        },
        {
          "output_type": "display_data",
          "data": {
            "text/plain": [
              "<Figure size 1000x500 with 1 Axes>"
            ],
            "image/png": "[encoded data removed]"
          },
          "metadata": {}
        }
      ]
    },
    {
      "cell_type": "code",
      "source": [
        "import random\n",
        "\n",
        "# Number of images per category to display\n",
        "num_show = 3\n",
        "\n",
        "# Plot some sample images\n",
        "plt.figure(figsize=(15, 6))\n",
        "\n",
        "for i, (category, folder) in enumerate(clean_folders.items()):\n",
        "    folder_path = os.path.join(dataset_root, folder)\n",
        "    if os.path.exists(folder_path):\n",
        "        image_files = os.listdir(folder_path)\n",
        "        random.shuffle(image_files)\n",
        "        for j in range(num_show):\n",
        "            img_path = os.path.join(folder_path, image_files[j])\n",
        "            try:\n",
        "                img = Image.open(img_path)\n",
        "                plt.subplot(len(clean_folders), num_show, i * num_show + j + 1)\n",
        "                plt.imshow(img)\n",
        "                plt.title(f\"{category}\")\n",
        "                plt.axis('off')\n",
        "            except Exception as e:\n",
        "                print(f\"Could not open {img_path}: {e}\")\n",
        "\n",
        "plt.suptitle(\"Sample Images from Each Category\", fontsize=16)\n",
        "plt.tight_layout()\n",
        "plt.show()\n"
      ],
      "metadata": {
        "colab": {
          "base_uri": "https://localhost:8080/",
          "height": 610
        },
        "id": "xKHOrSkYIMT-",
        "outputId": "22184266-0d6d-4b51-8834-3a298301b726"
      },
      "execution_count": null,
      "outputs": [
        {
          "output_type": "display_data",
          "data": {
            "text/plain": [
              "<Figure size 1500x600 with 9 Axes>"
            ],
            "image/png": "[encoded data removed]"
          },
          "metadata": {}
        }
      ]
    },
    {
      "cell_type": "markdown",
      "source": [
        "# 6. Load Dataset Using PyTorch's ImageFolder"
      ],
      "metadata": {
        "id": "isNNeGlU9Ypu"
      }
    },
    {
      "cell_type": "code",
      "source": [
        "!pip install torchvision"
      ],
      "metadata": {
        "id": "_GubFCq3_wOZ",
        "colab": {
          "base_uri": "https://localhost:8080/"
        },
        "outputId": "e5271995-f3dc-421d-d13f-da0f33716941"
      },
      "execution_count": null,
      "outputs": [
        {
          "output_type": "stream",
          "name": "stdout",
          "text": [
            "Requirement already satisfied: torchvision in /usr/local/lib/python3.11/dist-packages (0.21.0+cu124)\n",
            "Requirement already satisfied: numpy in /usr/local/lib/python3.11/dist-packages (from torchvision) (2.0.2)\n",
            "Requirement already satisfied: torch==2.6.0 in /usr/local/lib/python3.11/dist-packages (from torchvision) (2.6.0+cu124)\n",
            "Requirement already satisfied: pillow!=8.3.*,>=5.3.0 in /usr/local/lib/python3.11/dist-packages (from torchvision) (11.1.0)\n",
            "Requirement already satisfied: filelock in /usr/local/lib/python3.11/dist-packages (from torch==2.6.0->torchvision) (3.18.0)\n",
            "Requirement already satisfied: typing-extensions>=4.10.0 in /usr/local/lib/python3.11/dist-packages (from torch==2.6.0->torchvision) (4.13.1)\n",
            "Requirement already satisfied: networkx in /usr/local/lib/python3.11/dist-packages (from torch==2.6.0->torchvision) (3.4.2)\n",
            "Requirement already satisfied: jinja2 in /usr/local/lib/python3.11/dist-packages (from torch==2.6.0->torchvision) (3.1.6)\n",
            "Requirement already satisfied: fsspec in /usr/local/lib/python3.11/dist-packages (from torch==2.6.0->torchvision) (2025.3.2)\n",
            "Requirement already satisfied: nvidia-cuda-nvrtc-cu12==12.4.127 in /usr/local/lib/python3.11/dist-packages (from torch==2.6.0->torchvision) (12.4.127)\n",
            "Requirement already satisfied: nvidia-cuda-runtime-cu12==12.4.127 in /usr/local/lib/python3.11/dist-packages (from torch==2.6.0->torchvision) (12.4.127)\n",
            "Requirement already satisfied: nvidia-cuda-cupti-cu12==12.4.127 in /usr/local/lib/python3.11/dist-packages (from torch==2.6.0->torchvision) (12.4.127)\n",
            "Requirement already satisfied: nvidia-cudnn-cu12==9.1.0.70 in /usr/local/lib/python3.11/dist-packages (from torch==2.6.0->torchvision) (9.1.0.70)\n",
            "Requirement already satisfied: nvidia-cublas-cu12==12.4.5.8 in /usr/local/lib/python3.11/dist-packages (from torch==2.6.0->torchvision) (12.4.5.8)\n",
            "Requirement already satisfied: nvidia-cufft-cu12==11.2.1.3 in /usr/local/lib/python3.11/dist-packages (from torch==2.6.0->torchvision) (11.2.1.3)\n",
            "Requirement already satisfied: nvidia-curand-cu12==10.3.5.147 in /usr/local/lib/python3.11/dist-packages (from torch==2.6.0->torchvision) (10.3.5.147)\n",
            "Requirement already satisfied: nvidia-cusolver-cu12==11.6.1.9 in /usr/local/lib/python3.11/dist-packages (from torch==2.6.0->torchvision) (11.6.1.9)\n",
            "Requirement already satisfied: nvidia-cusparse-cu12==12.3.1.170 in /usr/local/lib/python3.11/dist-packages (from torch==2.6.0->torchvision) (12.3.1.170)\n",
            "Requirement already satisfied: nvidia-cusparselt-cu12==0.6.2 in /usr/local/lib/python3.11/dist-packages (from torch==2.6.0->torchvision) (0.6.2)\n",
            "Requirement already satisfied: nvidia-nccl-cu12==2.21.5 in /usr/local/lib/python3.11/dist-packages (from torch==2.6.0->torchvision) (2.21.5)\n",
            "Requirement already satisfied: nvidia-nvtx-cu12==12.4.127 in /usr/local/lib/python3.11/dist-packages (from torch==2.6.0->torchvision) (12.4.127)\n",
            "Requirement already satisfied: nvidia-nvjitlink-cu12==12.4.127 in /usr/local/lib/python3.11/dist-packages (from torch==2.6.0->torchvision) (12.4.127)\n",
            "Requirement already satisfied: triton==3.2.0 in /usr/local/lib/python3.11/dist-packages (from torch==2.6.0->torchvision) (3.2.0)\n",
            "Requirement already satisfied: sympy==1.13.1 in /usr/local/lib/python3.11/dist-packages (from torch==2.6.0->torchvision) (1.13.1)\n",
            "Requirement already satisfied: mpmath<1.4,>=1.1.0 in /usr/local/lib/python3.11/dist-packages (from sympy==1.13.1->torch==2.6.0->torchvision) (1.3.0)\n",
            "Requirement already satisfied: MarkupSafe>=2.0 in /usr/local/lib/python3.11/dist-packages (from jinja2->torch==2.6.0->torchvision) (3.0.2)\n"
          ]
        }
      ]
    },
    {
      "cell_type": "code",
      "source": [
        "import torch\n",
        "from torchvision import datasets, transforms\n",
        "from torch.utils.data import DataLoader\n",
        "\n",
        "# Define image transformation: only ToTensor (no normalization)\n",
        "transform = transforms.ToTensor()\n",
        "\n",
        "# Load dataset using ImageFolder with simple transform\n",
        "dataset = datasets.ImageFolder(root=clean_root, transform=transform)\n",
        "\n",
        "# Split dataset into train (80%) and validation (20%)\n",
        "train_size = int(0.8 * len(dataset))\n",
        "val_size = len(dataset) - train_size\n",
        "train_dataset, val_dataset = torch.utils.data.random_split(dataset, [train_size, val_size])\n",
        "\n",
        "# Create DataLoaders\n",
        "batch_size = 32\n",
        "train_loader = DataLoader(train_dataset, batch_size=batch_size, shuffle=True)\n",
        "val_loader = DataLoader(val_dataset, batch_size=batch_size, shuffle=False)\n",
        "\n",
        "print(\"Dataloaders ready (no normalization).\")\n"
      ],
      "metadata": {
        "id": "yeMiTXpM9ZA-",
        "colab": {
          "base_uri": "https://localhost:8080/"
        },
        "outputId": "4d0d526a-c4b4-43a3-b32d-650a4e7b7569"
      },
      "execution_count": null,
      "outputs": [
        {
          "output_type": "stream",
          "name": "stdout",
          "text": [
            "Dataloaders ready (no normalization).\n"
          ]
        }
      ]
    },
    {
      "cell_type": "markdown",
      "source": [
        "# 7. Import Dependencies"
      ],
      "metadata": {
        "id": "Grji-gcV0FLv"
      }
    },
    {
      "cell_type": "code",
      "source": [
        "import torch.nn as nn\n",
        "import torch.optim as optim\n",
        "import torchvision.models as models\n",
        "\n",
        "# Check device\n",
        "device = torch.device(\"cuda\" if torch.cuda.is_available() else \"cpu\")\n",
        "print(f\"Using device: {device}\")"
      ],
      "metadata": {
        "id": "rDCt9oQj0Ovu",
        "colab": {
          "base_uri": "https://localhost:8080/"
        },
        "outputId": "006db23e-b8ed-4738-e434-fa9e400cfc27"
      },
      "execution_count": null,
      "outputs": [
        {
          "output_type": "stream",
          "name": "stdout",
          "text": [
            "Using device: cpu\n"
          ]
        }
      ]
    },
    {
      "cell_type": "markdown",
      "source": [
        "# 8. Define & Modify ResNet-18"
      ],
      "metadata": {
        "id": "MbiiKA0J0bVa"
      }
    },
    {
      "cell_type": "code",
      "source": [
        "class CustomResNet(nn.Module):\n",
        "    def __init__(self, num_classes=3):\n",
        "        super(CustomResNet, self).__init__()\n",
        "        self.model = models.resnet18(weights=None)  # Load ResNet-18 without pretrained weights\n",
        "\n",
        "        # Modify first layer to accept 32x32 images (instead of 224x224)\n",
        "        self.model.conv1 = nn.Conv2d(3, 64, kernel_size=3, stride=1, padding=1, bias=False)\n",
        "\n",
        "        # Remove max pooling (since 32x32 is small)\n",
        "        self.model.maxpool = nn.Identity()\n",
        "\n",
        "        # Modify the final fully connected layer for 3 classes\n",
        "        in_features = self.model.fc.in_features\n",
        "        self.model.fc = nn.Linear(in_features, num_classes)\n",
        "\n",
        "    def forward(self, x):\n",
        "        return self.model(x)\n",
        "\n",
        "# Instantiate model\n",
        "model = CustomResNet(num_classes=3).to(device)\n",
        "print(\"ResNet-18 model ready.\")"
      ],
      "metadata": {
        "id": "ku_Y1iIu0a3v",
        "colab": {
          "base_uri": "https://localhost:8080/"
        },
        "outputId": "539854b2-e6bb-46ea-dfc0-dfec2b7d8281"
      },
      "execution_count": null,
      "outputs": [
        {
          "output_type": "stream",
          "name": "stdout",
          "text": [
            "ResNet-18 model ready.\n"
          ]
        }
      ]
    },
    {
      "cell_type": "markdown",
      "source": [
        "# 9. Define Loss & Optimizer"
      ],
      "metadata": {
        "id": "YxoRSOZ30n8A"
      }
    },
    {
      "cell_type": "code",
      "source": [
        "criterion = nn.CrossEntropyLoss()  # Multi-class classification loss\n",
        "optimizer = optim.Adam(model.parameters(), lr=0.001, weight_decay=1e-4)  # Adam optimizer with weight decay"
      ],
      "metadata": {
        "id": "-RlUZlWK0qqO"
      },
      "execution_count": null,
      "outputs": []
    },
    {
      "cell_type": "markdown",
      "source": [
        "# 10. Train the Model"
      ],
      "metadata": {
        "id": "qXuELVL70v0j"
      }
    },
    {
      "cell_type": "code",
      "source": [
        "num_epochs = 5  # Number of training epochs\n",
        "\n",
        "for epoch in range(num_epochs):\n",
        "    model.train()  # Set model to training mode\n",
        "    running_loss = 0.0\n",
        "    correct, total = 0, 0\n",
        "\n",
        "    for images, labels in train_loader:\n",
        "        images, labels = images.to(device), labels.to(device)\n",
        "\n",
        "        optimizer.zero_grad()\n",
        "        outputs = model(images)\n",
        "        loss = criterion(outputs, labels)\n",
        "        loss.backward()\n",
        "        optimizer.step()\n",
        "\n",
        "        running_loss += loss.item()\n",
        "\n",
        "        _, predicted = torch.max(outputs, 1)\n",
        "        total += labels.size(0)\n",
        "        correct += (predicted == labels).sum().item()\n",
        "\n",
        "    train_acc = 100 * correct / total\n",
        "    print(f\"Epoch {epoch+1}/{num_epochs}, Loss: {running_loss/len(train_loader):.4f}, Train Acc: {train_acc:.2f}%\")\n",
        "\n",
        "print(\"Training complete.\")"
      ],
      "metadata": {
        "id": "ZnH5mkEv0wEt",
        "colab": {
          "base_uri": "https://localhost:8080/"
        },
        "outputId": "29c5c194-ae07-4d78-ac40-5cb7fdd3cc33"
      },
      "execution_count": null,
      "outputs": [
        {
          "output_type": "stream",
          "name": "stdout",
          "text": [
            "Epoch 1/5, Loss: 0.2644, Train Acc: 92.29%\n",
            "Epoch 2/5, Loss: 0.0713, Train Acc: 98.06%\n",
            "Epoch 3/5, Loss: 0.0811, Train Acc: 97.64%\n",
            "Epoch 4/5, Loss: 0.0142, Train Acc: 99.62%\n",
            "Epoch 5/5, Loss: 0.0201, Train Acc: 99.43%\n",
            "Training complete.\n"
          ]
        }
      ]
    },
    {
      "cell_type": "markdown",
      "source": [
        "# 11. Evaluate the Model"
      ],
      "metadata": {
        "id": "LSHFogZm04Dp"
      }
    },
    {
      "cell_type": "code",
      "source": [
        "model.eval()\n",
        "correct, total = 0, 0\n",
        "\n",
        "with torch.no_grad():\n",
        "    for images, labels in val_loader:\n",
        "        images, labels = images.to(device), labels.to(device)\n",
        "        outputs = model(images)\n",
        "        _, predicted = torch.max(outputs, 1)\n",
        "        total += labels.size(0)\n",
        "        correct += (predicted == labels).sum().item()\n",
        "\n",
        "val_acc = 100 * correct / total\n",
        "print(f\"Validation Accuracy: {val_acc:.2f}%\")"
      ],
      "metadata": {
        "id": "jU0uurGp04VB",
        "colab": {
          "base_uri": "https://localhost:8080/"
        },
        "outputId": "6aa6827a-1b35-45e1-ba6a-472acfd2c5e0"
      },
      "execution_count": null,
      "outputs": [
        {
          "output_type": "stream",
          "name": "stdout",
          "text": [
            "Validation Accuracy: 98.49%\n"
          ]
        }
      ]
    },
    {
      "cell_type": "markdown",
      "source": [
        "# 12. Save the Model"
      ],
      "metadata": {
        "id": "7EFldSHd088I"
      }
    },
    {
      "cell_type": "code",
      "source": [
        "torch.save(model.state_dict(), \"resnet18_traffic_signs.pth\")\n",
        "print(\"Model saved.\")"
      ],
      "metadata": {
        "id": "lA8HA8Pc0-NS",
        "colab": {
          "base_uri": "https://localhost:8080/"
        },
        "outputId": "436664c7-c3ef-49be-8ee5-2e9187db1505"
      },
      "execution_count": null,
      "outputs": [
        {
          "output_type": "stream",
          "name": "stdout",
          "text": [
            "Model saved.\n"
          ]
        }
      ]
    },
    {
      "cell_type": "markdown",
      "source": [
        "## 13. Adversarial Attack"
      ],
      "metadata": {
        "id": "8rgQd0CdCasc"
      }
    },
    {
      "cell_type": "code",
      "source": [
        "!pip install torchattacks\n"
      ],
      "metadata": {
        "colab": {
          "base_uri": "https://localhost:8080/"
        },
        "id": "HftVl_KjCaRQ",
        "outputId": "f6fa3865-09bd-4c43-b458-acfadc0b8aeb"
      },
      "execution_count": null,
      "outputs": [
        {
          "output_type": "stream",
          "name": "stdout",
          "text": [
            "Requirement already satisfied: torchattacks in /usr/local/lib/python3.11/dist-packages (3.5.1)\n",
            "Requirement already satisfied: torch>=1.7.1 in /usr/local/lib/python3.11/dist-packages (from torchattacks) (2.6.0+cu124)\n",
            "Requirement already satisfied: torchvision>=0.8.2 in /usr/local/lib/python3.11/dist-packages (from torchattacks) (0.21.0+cu124)\n",
            "Requirement already satisfied: scipy>=0.14.0 in /usr/local/lib/python3.11/dist-packages (from torchattacks) (1.14.1)\n",
            "Requirement already satisfied: tqdm>=4.56.1 in /usr/local/lib/python3.11/dist-packages (from torchattacks) (4.67.1)\n",
            "Requirement already satisfied: requests~=2.25.1 in /usr/local/lib/python3.11/dist-packages (from torchattacks) (2.25.1)\n",
            "Requirement already satisfied: numpy>=1.19.4 in /usr/local/lib/python3.11/dist-packages (from torchattacks) (2.0.2)\n",
            "Requirement already satisfied: chardet<5,>=3.0.2 in /usr/local/lib/python3.11/dist-packages (from requests~=2.25.1->torchattacks) (4.0.0)\n",
            "Requirement already satisfied: idna<3,>=2.5 in /usr/local/lib/python3.11/dist-packages (from requests~=2.25.1->torchattacks) (2.10)\n",
            "Requirement already satisfied: urllib3<1.27,>=1.21.1 in /usr/local/lib/python3.11/dist-packages (from requests~=2.25.1->torchattacks) (1.26.20)\n",
            "Requirement already satisfied: certifi>=2017.4.17 in /usr/local/lib/python3.11/dist-packages (from requests~=2.25.1->torchattacks) (2025.1.31)\n",
            "Requirement already satisfied: filelock in /usr/local/lib/python3.11/dist-packages (from torch>=1.7.1->torchattacks) (3.18.0)\n",
            "Requirement already satisfied: typing-extensions>=4.10.0 in /usr/local/lib/python3.11/dist-packages (from torch>=1.7.1->torchattacks) (4.13.1)\n",
            "Requirement already satisfied: networkx in /usr/local/lib/python3.11/dist-packages (from torch>=1.7.1->torchattacks) (3.4.2)\n",
            "Requirement already satisfied: jinja2 in /usr/local/lib/python3.11/dist-packages (from torch>=1.7.1->torchattacks) (3.1.6)\n",
            "Requirement already satisfied: fsspec in /usr/local/lib/python3.11/dist-packages (from torch>=1.7.1->torchattacks) (2025.3.2)\n",
            "Requirement already satisfied: nvidia-cuda-nvrtc-cu12==12.4.127 in /usr/local/lib/python3.11/dist-packages (from torch>=1.7.1->torchattacks) (12.4.127)\n",
            "Requirement already satisfied: nvidia-cuda-runtime-cu12==12.4.127 in /usr/local/lib/python3.11/dist-packages (from torch>=1.7.1->torchattacks) (12.4.127)\n",
            "Requirement already satisfied: nvidia-cuda-cupti-cu12==12.4.127 in /usr/local/lib/python3.11/dist-packages (from torch>=1.7.1->torchattacks) (12.4.127)\n",
            "Requirement already satisfied: nvidia-cudnn-cu12==9.1.0.70 in /usr/local/lib/python3.11/dist-packages (from torch>=1.7.1->torchattacks) (9.1.0.70)\n",
            "Requirement already satisfied: nvidia-cublas-cu12==12.4.5.8 in /usr/local/lib/python3.11/dist-packages (from torch>=1.7.1->torchattacks) (12.4.5.8)\n",
            "Requirement already satisfied: nvidia-cufft-cu12==11.2.1.3 in /usr/local/lib/python3.11/dist-packages (from torch>=1.7.1->torchattacks) (11.2.1.3)\n",
            "Requirement already satisfied: nvidia-curand-cu12==10.3.5.147 in /usr/local/lib/python3.11/dist-packages (from torch>=1.7.1->torchattacks) (10.3.5.147)\n",
            "Requirement already satisfied: nvidia-cusolver-cu12==11.6.1.9 in /usr/local/lib/python3.11/dist-packages (from torch>=1.7.1->torchattacks) (11.6.1.9)\n",
            "Requirement already satisfied: nvidia-cusparse-cu12==12.3.1.170 in /usr/local/lib/python3.11/dist-packages (from torch>=1.7.1->torchattacks) (12.3.1.170)\n",
            "Requirement already satisfied: nvidia-cusparselt-cu12==0.6.2 in /usr/local/lib/python3.11/dist-packages (from torch>=1.7.1->torchattacks) (0.6.2)\n",
            "Requirement already satisfied: nvidia-nccl-cu12==2.21.5 in /usr/local/lib/python3.11/dist-packages (from torch>=1.7.1->torchattacks) (2.21.5)\n",
            "Requirement already satisfied: nvidia-nvtx-cu12==12.4.127 in /usr/local/lib/python3.11/dist-packages (from torch>=1.7.1->torchattacks) (12.4.127)\n",
            "Requirement already satisfied: nvidia-nvjitlink-cu12==12.4.127 in /usr/local/lib/python3.11/dist-packages (from torch>=1.7.1->torchattacks) (12.4.127)\n",
            "Requirement already satisfied: triton==3.2.0 in /usr/local/lib/python3.11/dist-packages (from torch>=1.7.1->torchattacks) (3.2.0)\n",
            "Requirement already satisfied: sympy==1.13.1 in /usr/local/lib/python3.11/dist-packages (from torch>=1.7.1->torchattacks) (1.13.1)\n",
            "Requirement already satisfied: mpmath<1.4,>=1.1.0 in /usr/local/lib/python3.11/dist-packages (from sympy==1.13.1->torch>=1.7.1->torchattacks) (1.3.0)\n",
            "Requirement already satisfied: pillow!=8.3.*,>=5.3.0 in /usr/local/lib/python3.11/dist-packages (from torchvision>=0.8.2->torchattacks) (11.1.0)\n",
            "Requirement already satisfied: MarkupSafe>=2.0 in /usr/local/lib/python3.11/dist-packages (from jinja2->torch>=1.7.1->torchattacks) (3.0.2)\n"
          ]
        }
      ]
    },
    {
      "cell_type": "markdown",
      "source": [
        "# 14. Compare the original image with FGSM one"
      ],
      "metadata": {
        "id": "CZOc8Kufnqvh"
      }
    },
    {
      "cell_type": "code",
      "source": [
        "import torch\n",
        "import torch.nn.functional as F\n",
        "import matplotlib.pyplot as plt\n",
        "\n",
        "# -----------------------\n",
        "# FGSM Attack Function (no normalization)\n",
        "# -----------------------\n",
        "def fgsm_attack(model, image, label, epsilon):\n",
        "    image.retain_grad()\n",
        "\n",
        "    output = model(image)\n",
        "    loss = F.cross_entropy(output, label)\n",
        "    model.zero_grad()\n",
        "    loss.backward()\n",
        "\n",
        "    data_grad = image.grad.data\n",
        "    adv_image = image + epsilon * data_grad.sign()\n",
        "    adv_image = torch.clamp(adv_image, 0, 1)  # Clamp to [0, 1]\n",
        "\n",
        "    return adv_image.detach()\n",
        "\n",
        "# -----------------------\n",
        "# Load one image (from unnormalized val_loader)\n",
        "# -----------------------\n",
        "images, labels = next(iter(val_loader))\n",
        "image = images[1].unsqueeze(0).clone().detach().to(device)\n",
        "label = labels[1].unsqueeze(0).clone().detach().to(device)\n",
        "image.requires_grad = True\n",
        "\n",
        "# -----------------------\n",
        "# FGSM Attack\n",
        "# -----------------------\n",
        "epsilon = 8 / 255\n",
        "adv_image = fgsm_attack(model, image, label, epsilon)\n",
        "\n",
        "# -----------------------\n",
        "# Get predictions\n",
        "# -----------------------\n",
        "model.eval()\n",
        "with torch.no_grad():\n",
        "    pred_clean = model(image).argmax(dim=1).item()\n",
        "    pred_adv = model(adv_image).argmax(dim=1).item()\n",
        "\n",
        "# -----------------------\n",
        "# Visualization\n",
        "# -----------------------\n",
        "image_vis = image.squeeze().detach().cpu()\n",
        "adv_vis = adv_image.squeeze().detach().cpu()\n",
        "\n",
        "plt.figure(figsize=(8, 4))\n",
        "\n",
        "plt.subplot(1, 2, 1)\n",
        "plt.imshow(image_vis.permute(1, 2, 0).numpy())\n",
        "plt.title(f\"Original\\nLabel: {label.item()}, Pred: {pred_clean}\")\n",
        "plt.axis('off')\n",
        "\n",
        "plt.subplot(1, 2, 2)\n",
        "plt.imshow(adv_vis.permute(1, 2, 0).numpy())\n",
        "plt.title(f\"FGSM Adv\\nLabel: {label.item()}, Pred: {pred_adv}\")\n",
        "plt.axis('off')\n",
        "\n",
        "plt.tight_layout()\n",
        "plt.show()\n"
      ],
      "metadata": {
        "colab": {
          "base_uri": "https://localhost:8080/",
          "height": 420
        },
        "id": "rAOfC5gsHuTb",
        "outputId": "e6943f36-058c-45ff-a7dd-3a51587cc1c6"
      },
      "execution_count": null,
      "outputs": [
        {
          "output_type": "display_data",
          "data": {
            "text/plain": [
              "<Figure size 800x400 with 2 Axes>"
            ],
            "image/png": "[encoded data removed]"
          },
          "metadata": {}
        }
      ]
    },
    {
      "cell_type": "markdown",
      "source": [
        "# 15. Compare the original accuracy, FGSM, bit-reduction, and binary-filter"
      ],
      "metadata": {
        "id": "LpcJwqB5n0PU"
      }
    },
    {
      "cell_type": "code",
      "source": [
        "import torchattacks\n",
        "import torchvision.transforms as T\n",
        "\n",
        "model.eval()\n",
        "fgsm_attack = torchattacks.FGSM(model, eps=8/255)\n",
        "\n",
        "correct_clean, correct_fgsm, correct_bit, correct_binfilter, total = 0, 0, 0, 0, 0\n",
        "\n",
        "thresholds = [0.3, 0.4, 0.5, 0.6, 0.7]\n",
        "bit_levels = [1, 2, 3, 4]\n",
        "\n",
        "binary_results = {t: 0 for t in thresholds}\n",
        "bit_results = {b: 0 for b in bit_levels}\n",
        "\n",
        "#Reduce color (bit-depth) of images\n",
        "def bit_depth_reduction(img, bits=3):\n",
        "  levels = 2 ** bits\n",
        "  return torch.round(images * (levels - 1)) / (levels - 1)\n",
        "\n",
        "def binary_filter(img, threshold=0.5):\n",
        "  return torch.relu(torch.sign(img - threshold))\n",
        "\n",
        "for images, labels in val_loader:\n",
        "    images, labels = images.to(device), labels.to(device)\n",
        "\n",
        "    # Clean prediction\n",
        "    with torch.no_grad():\n",
        "        outputs_clean = model(images)\n",
        "        _, preds_clean = torch.max(outputs_clean, 1)\n",
        "\n",
        "    # Generate adversarial examples (requires grad)\n",
        "    adv_images = fgsm_attack(images, labels)\n",
        "\n",
        "    # FGSM prediction\n",
        "    with torch.no_grad():\n",
        "        outputs_fgsm = model(adv_images)\n",
        "        _, preds_fgsm = torch.max(outputs_fgsm, 1)\n",
        "\n",
        "    # FGSM + Bit-depth reduction\n",
        "    for b in bit_levels:\n",
        "      reduced_adv_images = bit_depth_reduction(adv_images, b)\n",
        "\n",
        "      with torch.no_grad():\n",
        "          outputs_bit = model(reduced_adv_images)\n",
        "          _, preds_bit = torch.max(outputs_bit, 1)\n",
        "          bit_results[b] += (preds_bit == labels).sum().item()\n",
        "\n",
        "    # FGSM + Binary Filter\n",
        "    for t in thresholds:\n",
        "      filtered_adv_images = binary_filter(adv_images, t)\n",
        "\n",
        "      with torch.no_grad():\n",
        "          outputs_binfilter = model(filtered_adv_images)\n",
        "          _, preds_binfilter = torch.max(outputs_binfilter, 1)\n",
        "          binary_results[t] += (preds_binfilter == labels).sum().item()\n",
        "\n",
        "    # Count accuracy\n",
        "    correct_clean += (preds_clean == labels).sum().item()\n",
        "    correct_fgsm += (preds_fgsm == labels).sum().item()\n",
        "    total += labels.size(0)\n",
        "\n",
        "# Final accuracy printout\n",
        "val_acc_clean = 100 * correct_clean / total\n",
        "val_acc_fgsm = 100 * correct_fgsm / total\n",
        "\n",
        "print(f\"✅ Clean Accuracy on full val set: {val_acc_clean:.2f}%\")\n",
        "print(f\"⚠️  FGSM Accuracy on full val set : {val_acc_fgsm:.2f}%\")\n",
        "\n",
        "for b in bit_levels:\n",
        "  bit_acc = 100 * bit_results[b] / total\n",
        "  print(f\"FGSM + Bit-Depth Reduction (bits={b}) : {bit_acc:.2f}%\")\n",
        "\n",
        "for t in thresholds:\n",
        "  binary_acc = 100 * binary_results[t] / total\n",
        "  print(f\"FGSM + Binary Filter (threshold={t}) : {binary_acc:.2f}%\")\n",
        "\n",
        "\n"
      ],
      "metadata": {
        "colab": {
          "base_uri": "https://localhost:8080/"
        },
        "id": "8GiwkRHFGK6c",
        "outputId": "6b74dbbc-e3b1-41d8-ad06-26c4eba91384"
      },
      "execution_count": null,
      "outputs": [
        {
          "output_type": "stream",
          "name": "stdout",
          "text": [
            "✅ Clean Accuracy on full val set: 98.49%\n",
            "⚠️  FGSM Accuracy on full val set : 67.67%\n",
            "FGSM + Bit-Depth Reduction (bits=1) : 83.18%\n",
            "FGSM + Bit-Depth Reduction (bits=2) : 95.84%\n",
            "FGSM + Bit-Depth Reduction (bits=3) : 98.49%\n",
            "FGSM + Bit-Depth Reduction (bits=4) : 98.87%\n",
            "FGSM + Binary Filter (threshold=0.3) : 79.21%\n",
            "FGSM + Binary Filter (threshold=0.4) : 78.45%\n",
            "FGSM + Binary Filter (threshold=0.5) : 71.27%\n",
            "FGSM + Binary Filter (threshold=0.6) : 60.68%\n",
            "FGSM + Binary Filter (threshold=0.7) : 54.25%\n"
          ]
        }
      ]
    },
    {
      "cell_type": "code",
      "source": [
        "def show_defence_example(original, fgsm, bit_reduced_list, binary_filtered_list, bit_levels, thresholds, index=0):\n",
        "    total_cols = 2 + len(bit_levels) + len(thresholds)\n",
        "    plt.figure(figsize=(2 * total_cols, 2))\n",
        "\n",
        "    # Original image\n",
        "    plt.subplot(1, total_cols, 1)\n",
        "    plt.imshow(original[index].permute(1, 2, 0).cpu().numpy())\n",
        "    plt.title(\"Original\")\n",
        "    plt.axis(\"off\")\n",
        "\n",
        "    #FGSM image\n",
        "    plt.subplot(1, total_cols, 2)\n",
        "    plt.imshow(fgsm[index].permute(1, 2, 0).cpu().numpy())\n",
        "    plt.title(\"FGSM Adv\")\n",
        "    plt.axis(\"off\")\n",
        "\n",
        "    # Bit-depth img\n",
        "    for i, img in enumerate(bit_reduced_list):\n",
        "        plt.subplot(1, total_cols, 3 + i)\n",
        "        plt.imshow(img[index].permute(1, 2, 0).cpu().numpy())\n",
        "        plt.title(f\"Bit Lvl={bit_levels[i]}\")\n",
        "        plt.axis(\"off\")\n",
        "\n",
        "    # Binary filter img\n",
        "    for i, img in enumerate(binary_filtered_list):\n",
        "        plt.subplot(1, total_cols, 3 + len(bit_levels) + i)\n",
        "        plt.imshow(img[index].permute(1, 2, 0).cpu().numpy())\n",
        "        plt.title(f\"Threshold={thresholds[i]}\")\n",
        "        plt.axis(\"off\")\n",
        "\n",
        "    plt.tight_layout()\n",
        "    plt.show()"
      ],
      "metadata": {
        "id": "ZK7I57dIBpyP"
      },
      "execution_count": null,
      "outputs": []
    },
    {
      "cell_type": "code",
      "source": [
        "bit_reduced_images = [bit_depth_reduction(adv_images, b) for b in bit_levels]\n",
        "binary_filtered_images = [binary_filter(adv_images, t) for t in thresholds]\n",
        "\n",
        "show_defence_example(images, adv_images, bit_reduced_images, binary_filtered_images, bit_levels, thresholds)"
      ],
      "metadata": {
        "colab": {
          "base_uri": "https://localhost:8080/",
          "height": 218
        },
        "id": "mVOyYEAdC7xJ",
        "outputId": "1e0140ce-0fa8-4b4b-b1d6-6e9dc9014037"
      },
      "execution_count": null,
      "outputs": [
        {
          "output_type": "display_data",
          "data": {
            "text/plain": [
              "<Figure size 2200x200 with 11 Axes>"
            ],
            "image/png": "[encoded data removed]"
          },
          "metadata": {}
        }
      ]
    }
  ]
}